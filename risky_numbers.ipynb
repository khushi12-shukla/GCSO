{
  "nbformat": 4,
  "nbformat_minor": 0,
  "metadata": {
    "colab": {
      "name": "risky numbers",
      "provenance": [],
      "collapsed_sections": [],
      "authorship_tag": "ABX9TyNmtlvqkqhRVjQDuI+6vm0v",
      "include_colab_link": true
    },
    "kernelspec": {
      "name": "python3",
      "display_name": "Python 3"
    },
    "language_info": {
      "name": "python"
    }
  },
  "cells": [
    {
      "cell_type": "markdown",
      "metadata": {
        "id": "view-in-github",
        "colab_type": "text"
      },
      "source": [
        "<a href=\"https://colab.research.google.com/github/khushi12-shukla/GCSO/blob/master/risky_numbers.ipynb\" target=\"_parent\"><img src=\"https://colab.research.google.com/assets/colab-badge.svg\" alt=\"Open In Colab\"/></a>"
      ]
    },
    {
      "cell_type": "code",
      "execution_count": null,
      "metadata": {
        "colab": {
          "base_uri": "https://localhost:8080/"
        },
        "id": "3S2a3hmeSyBQ",
        "outputId": "205058e3-0e28-4b40-935f-56093fa04172"
      },
      "outputs": [
        {
          "output_type": "stream",
          "name": "stdout",
          "text": [
            "Please save me I am stuck here with numbers. I am a scientist and had created a machine for capturing people. \n",
            "Due to some technical glich I am stuck here amidst the machinery myself. You are my only hope so please save me.\n",
            "You have to guess a number decided by the operating system of the machine between 1 to 9 within five chances.\n",
            "Don't worry every wrong guess would give you a hint. So, all the best.\n"
          ]
        }
      ],
      "source": [
        "import random\n",
        "luckDecider=random.randint(1,9)\n",
        "print(\"Please save me I am stuck here with numbers. I am a scientist and had created a machine for capturing people. \")\n",
        "print(\"Due to some technical glich I am stuck here amidst the machinery myself. You are my only hope so please save me.\")\n",
        "print(\"You have to guess a number decided by the operating system of the machine between 1 to 9 within five chances.\")\n",
        "print(\"Don't worry every wrong guess would give you a hint. So, all the best.\")\n",
        "chances=0\n",
        "while chances<5:\n",
        "  guess=int (input(\"enter my jackpot number here\"))\n",
        "  if(guess==luckDecider):\n",
        "    print(\"Wow you are awesome. Thank you for helping me out. I will never forget your favour.I am lucky to have you for my rescue.\")\n",
        "    break\n",
        "  elif guess < luckDecider:\n",
        "    print(\"your answer is less than the lucky number \")\n",
        "  else:\n",
        "    print(\"your answer is more than the lucky number\")\n",
        "    chances=chances+1\n",
        "if not chances<5:\n",
        "  print(\"I know that you tried your best but you couldn't guess the correct number. Don't worry about me I know that you will rescue me some day\")\n",
        "  "
      ]
    },
    {
      "cell_type": "code",
      "source": [
        ""
      ],
      "metadata": {
        "id": "rfIxbi-V60KW"
      },
      "execution_count": null,
      "outputs": []
    }
  ]
}